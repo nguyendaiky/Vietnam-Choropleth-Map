{
  "nbformat": 4,
  "nbformat_minor": 0,
  "metadata": {
    "colab": {
      "name": "Vietnam-choropleth-map.ipynb",
      "provenance": [],
      "authorship_tag": "ABX9TyPqEGQkHSz2996O4RnFBiks",
      "include_colab_link": true
    },
    "kernelspec": {
      "name": "python3",
      "display_name": "Python 3"
    },
    "language_info": {
      "name": "python"
    }
  },
  "cells": [
    {
      "cell_type": "markdown",
      "metadata": {
        "id": "view-in-github",
        "colab_type": "text"
      },
      "source": [
        "<a href=\"https://colab.research.google.com/github/nguyendaiky/Vietnam-Choropleth-Map/blob/main/Vietnam_choropleth_map.ipynb\" target=\"_parent\"><img src=\"https://colab.research.google.com/assets/colab-badge.svg\" alt=\"Open In Colab\"/></a>"
      ]
    },
    {
      "cell_type": "code",
      "metadata": {
        "colab": {
          "base_uri": "https://localhost:8080/"
        },
        "id": "rJNg9v530Ej2",
        "outputId": "bbc4e86c-c7f0-4e5d-d644-30851765c65a"
      },
      "source": [
        "!npm install -gs d3-geo-projection"
      ],
      "execution_count": null,
      "outputs": [
        {
          "output_type": "stream",
          "text": [
            "\u001b[K\u001b[?25h/tools/node/bin/geo2svg -> /tools/node/lib/node_modules/d3-geo-projection/bin/geo2svg.js\n",
            "/tools/node/bin/geograticule -> /tools/node/lib/node_modules/d3-geo-projection/bin/geograticule.js\n",
            "/tools/node/bin/geoproject -> /tools/node/lib/node_modules/d3-geo-projection/bin/geoproject.js\n",
            "/tools/node/bin/geoquantize -> /tools/node/lib/node_modules/d3-geo-projection/bin/geoquantize.js\n",
            "/tools/node/bin/geostitch -> /tools/node/lib/node_modules/d3-geo-projection/bin/geostitch.js\n",
            "+ d3-geo-projection@4.0.0\n",
            "added 5 packages from 4 contributors in 1.117s\n"
          ],
          "name": "stdout"
        }
      ]
    },
    {
      "cell_type": "code",
      "metadata": {
        "id": "JZK8GdFa0ewQ"
      },
      "source": [
        "!curl -so vn.json 'https://data.opendevelopmentmekong.net/dataset/999c96d8-fae0-4b82-9a2b-e481f6f50e12/resource/234169fb-ae73-4f23-bbd4-ff20a4fca401/download/diaphantinh.geojson'\n",
        "!geoproject 'd3.geoCylindricalStereographic().fitSize([800, 800], d)' < vn.json > vn-projected.json\n",
        "!geo2svg -w 800 -h 800 < vn-projected.json > vn.svg"
      ],
      "execution_count": null,
      "outputs": []
    },
    {
      "cell_type": "code",
      "metadata": {
        "colab": {
          "base_uri": "https://localhost:8080/"
        },
        "id": "9aHMQRE01YgF",
        "outputId": "86c5b4ba-ebcb-4af0-d21a-6ad2c227ef10"
      },
      "source": [
        "import json\n",
        "\n",
        "with open('vn-projected.json') as f:\n",
        "    geo = json.load(f)\n",
        "geo.keys()"
      ],
      "execution_count": null,
      "outputs": [
        {
          "output_type": "execute_result",
          "data": {
            "text/plain": [
              "dict_keys(['type', 'features'])"
            ]
          },
          "metadata": {
            "tags": []
          },
          "execution_count": 4
        }
      ]
    },
    {
      "cell_type": "code",
      "metadata": {
        "colab": {
          "base_uri": "https://localhost:8080/"
        },
        "id": "CMVCsnDG1nd2",
        "outputId": "ac064be4-7d90-49e0-d308-fb44d8e0ca26"
      },
      "source": [
        "import csv\n",
        "!curl -so mat-do-dan-so.csv 'https://gist.githubusercontent.com/lebinh/2b1dfa2925235388be3592fd9b483eb8/raw/dcf008c19ccf6312c22290d51f011c87e6a1e0e6/mat-do-dan-so.csv'\n",
        "\n",
        "density = {}\n",
        "with open('mat-do-dan-so.csv') as f:\n",
        "    reader = csv.reader(f)\n",
        "    for row in reader:\n",
        "        if row[0] != 'province':\n",
        "            density[row[0]] = float(row[1])\n",
        "density\n"
      ],
      "execution_count": null,
      "outputs": [
        {
          "output_type": "execute_result",
          "data": {
            "text/plain": [
              "{'An Giang': 611.0,\n",
              " 'Bà Rịa - Vũng Tàu': 551.0,\n",
              " 'Bình Dương': 741.0,\n",
              " 'Bình Phước': 139.0,\n",
              " 'Bình Thuận': 154.0,\n",
              " 'Bình Định': 251.0,\n",
              " 'Bạc Liêu': 332.0,\n",
              " 'Bắc Giang': 426.0,\n",
              " 'Bắc Kạn': 66.0,\n",
              " 'Bắc Ninh': 1432.0,\n",
              " 'Bắc Trung Bộ và Duyên hải miền Trung': 207.0,\n",
              " 'Bến Tre': 528.0,\n",
              " 'Cao Bằng': 79.0,\n",
              " 'Cà Mau': 234.0,\n",
              " 'CẢ NƯỚC': 280.0,\n",
              " 'Cần Thơ': 874.0,\n",
              " 'Gia Lai': 91.0,\n",
              " 'Hoà Bình': 181.0,\n",
              " 'Hà Giang': 103.0,\n",
              " 'Hà Nam': 932.0,\n",
              " 'Hà Nội': 2182.0,\n",
              " 'Hà Tĩnh': 211.0,\n",
              " 'Hưng Yên': 1258.0,\n",
              " 'Hải Dương': 1070.0,\n",
              " 'Hải Phòng': 1268.0,\n",
              " 'Hậu Giang': 476.0,\n",
              " 'Khánh Hoà': 236.0,\n",
              " 'Kiên Giang': 280.0,\n",
              " 'Kon Tum': 52.0,\n",
              " 'Lai Châu': 48.0,\n",
              " 'Long An': 332.0,\n",
              " 'Lào Cai': 108.0,\n",
              " 'Lâm Đồng': 132.0,\n",
              " 'Lạng Sơn': 92.0,\n",
              " 'Nam Định': 1110.0,\n",
              " 'Nghệ An': 188.0,\n",
              " 'Ninh Bình': 687.0,\n",
              " 'Ninh Thuận': 179.0,\n",
              " 'Phú Thọ': 391.0,\n",
              " 'Phú Yên': 179.0,\n",
              " 'Quảng Bình': 110.0,\n",
              " 'Quảng Nam': 141.0,\n",
              " 'Quảng Ngãi': 243.0,\n",
              " 'Quảng Ninh': 198.0,\n",
              " 'Quảng Trị': 135.0,\n",
              " 'Sóc Trăng': 396.0,\n",
              " 'Sơn La': 86.0,\n",
              " 'TP. Hồ Chí Minh': 4025.0,\n",
              " 'Thanh Hoá': 317.0,\n",
              " 'Thái Bình': 1128.0,\n",
              " 'Thái Nguyên': 348.0,\n",
              " 'Thừa Thiên - Huế': 235.0,\n",
              " 'Tiền Giang': 693.0,\n",
              " 'Trung du và miền núi phía Bắc': 126.0,\n",
              " 'Trà Vinh': 441.0,\n",
              " 'Tuyên Quang': 131.0,\n",
              " 'Tây Nguyên': 104.0,\n",
              " 'Tây Ninh': 277.0,\n",
              " 'Vĩnh Long': 687.0,\n",
              " 'Vĩnh Phúc': 863.0,\n",
              " 'Yên Bái': 116.0,\n",
              " 'Điện Biên': 58.0,\n",
              " 'Đà Nẵng': 814.0,\n",
              " 'Đông Nam Bộ': 697.0,\n",
              " 'Đắk Lắk': 144.0,\n",
              " 'Đắk Nông': 93.0,\n",
              " 'Đồng Nai': 505.0,\n",
              " 'Đồng Tháp': 499.0,\n",
              " 'Đồng bằng sông Cửu Long': 433.0,\n",
              " 'Đồng bằng sông Hồng': 994.0}"
            ]
          },
          "metadata": {
            "tags": []
          },
          "execution_count": 22
        }
      ]
    },
    {
      "cell_type": "code",
      "metadata": {
        "colab": {
          "base_uri": "https://localhost:8080/"
        },
        "id": "frPVs6S45niW",
        "outputId": "0532e200-6979-407f-ce72-7baa7eaf8bc1"
      },
      "source": [
        "print('min = {}'.format(min(density.values())))\n",
        "print('max = {}'.format(max(density.values())))"
      ],
      "execution_count": null,
      "outputs": [
        {
          "output_type": "stream",
          "text": [
            "min = 48.0\n",
            "max = 4025.0\n"
          ],
          "name": "stdout"
        }
      ]
    },
    {
      "cell_type": "code",
      "metadata": {
        "colab": {
          "base_uri": "https://localhost:8080/"
        },
        "id": "NmYEuqZI5rJN",
        "outputId": "dba39689-2040-4d81-e7f0-1f8617de0267"
      },
      "source": [
        "geo_provinces = set(f['properties']['ten_tinh'] for f in geo['features'])\n",
        "density_provinces = set(density.keys())\n",
        "geo_provinces - density_provinces"
      ],
      "execution_count": null,
      "outputs": [
        {
          "output_type": "execute_result",
          "data": {
            "text/plain": [
              "{'Bà Rịa -Vũng Tàu',\n",
              " 'Cần Thơn',\n",
              " 'Hòa Bình',\n",
              " 'Khánh Hòa',\n",
              " 'Kien Giang',\n",
              " 'Quản Bình',\n",
              " 'Thanh Hóa',\n",
              " 'Thừa Thiên Huế',\n",
              " 'Đăk Lăk',\n",
              " 'Đăk Nông'}"
            ]
          },
          "metadata": {
            "tags": []
          },
          "execution_count": 24
        }
      ]
    },
    {
      "cell_type": "code",
      "metadata": {
        "colab": {
          "base_uri": "https://localhost:8080/"
        },
        "id": "R1uN4G3C5vUT",
        "outputId": "069607bc-4777-4ae4-89ce-97f258b9af5f"
      },
      "source": [
        "density_provinces - geo_provinces"
      ],
      "execution_count": null,
      "outputs": [
        {
          "output_type": "execute_result",
          "data": {
            "text/plain": [
              "{'Bà Rịa - Vũng Tàu',\n",
              " 'Bắc Trung Bộ và Duyên hải miền Trung',\n",
              " 'CẢ NƯỚC',\n",
              " 'Cần Thơ',\n",
              " 'Hoà Bình',\n",
              " 'Khánh Hoà',\n",
              " 'Kiên Giang',\n",
              " 'Quảng Bình',\n",
              " 'Thanh Hoá',\n",
              " 'Thừa Thiên - Huế',\n",
              " 'Trung du và miền núi phía Bắc',\n",
              " 'Tây Nguyên',\n",
              " 'Đông Nam Bộ',\n",
              " 'Đắk Lắk',\n",
              " 'Đắk Nông',\n",
              " 'Đồng bằng sông Cửu Long',\n",
              " 'Đồng bằng sông Hồng'}"
            ]
          },
          "metadata": {
            "tags": []
          },
          "execution_count": 25
        }
      ]
    },
    {
      "cell_type": "code",
      "metadata": {
        "id": "lxCzHDJr50Qk"
      },
      "source": [
        "corrections = {\n",
        "    'Bà Rịa -Vũng Tàu': 'Bà Rịa - Vũng Tàu',\n",
        "    'Cần Thơn': 'Cần Thơ',\n",
        "    'Hòa Bình': 'Hoà Bình',\n",
        "    'Khánh Hòa': 'Khánh Hoà',\n",
        "    'Kien Giang': 'Kiên Giang',\n",
        "    'Quản Bình': 'Quảng Bình',\n",
        "    'Thanh Hóa': 'Thanh Hoá',\n",
        "    'Đăk Lăk': 'Đắk Lắk',\n",
        "    'Đăk Nông': 'Đắk Nông',\n",
        "    'Thừa Thiên Huế':'Thừa Thiên - Huế',\n",
        "    'TP.Hồ Chí Minh':'TP. Hồ Chí Minh'\n",
        "}\n",
        "for feature in geo['features']:\n",
        "    name = feature['properties']['ten_tinh']\n",
        "    if name in corrections:\n",
        "        feature['properties']['ten_tinh'] = corrections[name]\n",
        "\n",
        "for feature in geo['features']:\n",
        "    name = feature['properties']['ten_tinh']\n",
        "    feature['properties']['density'] = density[name]"
      ],
      "execution_count": null,
      "outputs": []
    },
    {
      "cell_type": "code",
      "metadata": {
        "colab": {
          "base_uri": "https://localhost:8080/"
        },
        "id": "IFGaeY-K6Rxm",
        "outputId": "ec2ffc1d-f308-40c3-fa83-4c6e83975333"
      },
      "source": [
        "geo_provinces = set(f['properties']['ten_tinh'] for f in geo['features'])\n",
        "density_provinces = set(density.keys())\n",
        "print(geo_provinces - density_provinces)"
      ],
      "execution_count": null,
      "outputs": [
        {
          "output_type": "stream",
          "text": [
            "set()\n"
          ],
          "name": "stdout"
        }
      ]
    },
    {
      "cell_type": "code",
      "metadata": {
        "id": "cJXvtOPz6YHQ"
      },
      "source": [
        "with open('vn-density.json','w') as f:\n",
        "    json.dump(geo,f)"
      ],
      "execution_count": null,
      "outputs": []
    },
    {
      "cell_type": "code",
      "metadata": {
        "colab": {
          "base_uri": "https://localhost:8080/"
        },
        "id": "fankt2QmBZgQ",
        "outputId": "37bc6354-4712-4df3-89ea-51bd1f12ca79"
      },
      "source": [
        "!npm install ndjson-cli"
      ],
      "execution_count": 76,
      "outputs": [
        {
          "output_type": "stream",
          "text": [
            "\u001b[K\u001b[?25h\n",
            "up to date, audited 9 packages in 977ms\n",
            "\n",
            "2 packages are looking for funding\n",
            "  run `npm fund` for details\n",
            "\n",
            "found \u001b[32m\u001b[1m0\u001b[22m\u001b[39m vulnerabilities\n"
          ],
          "name": "stdout"
        }
      ]
    },
    {
      "cell_type": "code",
      "metadata": {
        "colab": {
          "base_uri": "https://localhost:8080/"
        },
        "id": "BSzB5diQCvao",
        "outputId": "51c03c12-7174-4b4d-c4a7-254a603ac1c4"
      },
      "source": [
        "!npm fund"
      ],
      "execution_count": 77,
      "outputs": [
        {
          "output_type": "stream",
          "text": [
            "\u001b[0mcontent\u001b[0m\n",
            "\u001b[0m└── \u001b[40m\u001b[37mhttps://github.com/sponsors/ljharb\u001b[39m\u001b[49m\u001b[0m\n",
            "\u001b[0m    └── resolve@1.20.0, is-core-module@2.4.0\u001b[0m\n",
            "\u001b[0m\u001b[0m\n"
          ],
          "name": "stdout"
        }
      ]
    },
    {
      "cell_type": "code",
      "metadata": {
        "colab": {
          "base_uri": "https://localhost:8080/"
        },
        "id": "x5qVkbpYDL-P",
        "outputId": "911957a9-fb50-4fcb-f44d-70ac27c2b8fb"
      },
      "source": [
        "!ndjson-cli ndjson-split"
      ],
      "execution_count": 74,
      "outputs": [
        {
          "output_type": "stream",
          "text": [
            "/bin/bash: ndjson-cli: command not found\n"
          ],
          "name": "stdout"
        }
      ]
    },
    {
      "cell_type": "code",
      "metadata": {
        "colab": {
          "base_uri": "https://localhost:8080/"
        },
        "id": "F8pZ2ugXCiWa",
        "outputId": "d4e54deb-982b-428b-c601-65743569e75c"
      },
      "source": [
        "!ndjson-split 'd.features' < vn-density.json > vn-density.ndjson"
      ],
      "execution_count": 75,
      "outputs": [
        {
          "output_type": "stream",
          "text": [
            "/bin/bash: ndjson-split: command not found\n"
          ],
          "name": "stdout"
        }
      ]
    },
    {
      "cell_type": "code",
      "metadata": {
        "colab": {
          "base_uri": "https://localhost:8080/"
        },
        "id": "W8ZyIAY-6vwc",
        "outputId": "cd30cb28-1882-477e-fb3d-c37bfb28bb79"
      },
      "source": [
        "!npm install -g npm\n",
        "!npm install -gs d3"
      ],
      "execution_count": null,
      "outputs": [
        {
          "output_type": "stream",
          "text": [
            "\u001b[K\u001b[?25h/tools/node/bin/npm -> /tools/node/lib/node_modules/npm/bin/npm-cli.js\n",
            "/tools/node/bin/npx -> /tools/node/lib/node_modules/npm/bin/npx-cli.js\n",
            "\u001b[K\u001b[?25h+ npm@7.19.1\n",
            "added 61 packages from 25 contributors, removed 239 packages and updated 195 packages in 8.66s\n",
            "\u001b[K\u001b[?25h"
          ],
          "name": "stdout"
        }
      ]
    },
    {
      "cell_type": "code",
      "metadata": {
        "id": "S8DN6U7P7-pk"
      },
      "source": [
        "!curl -so vn-density.ndjson 'https://raw.githubusercontent.com/lebinh/vietnam-choropleth-map/master/vn-density.ndjson'\n",
        "!curl -so vn-color.ndjson 'https://raw.githubusercontent.com/lebinh/vietnam-choropleth-map/master/vn-color.ndjson'"
      ],
      "execution_count": null,
      "outputs": []
    },
    {
      "cell_type": "code",
      "metadata": {
        "id": "-HwYKdTA8Y7K"
      },
      "source": [
        "!geo2svg -n --stroke none -p 1 -w 800 -h 800 < vn-color.ndjson > vn-color.svg"
      ],
      "execution_count": null,
      "outputs": []
    }
  ]
}