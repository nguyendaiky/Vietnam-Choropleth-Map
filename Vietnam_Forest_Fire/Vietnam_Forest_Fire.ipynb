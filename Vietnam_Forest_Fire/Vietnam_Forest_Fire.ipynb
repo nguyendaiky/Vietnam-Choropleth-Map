{
 "cells": [
  {
   "cell_type": "code",
   "execution_count": 2,
   "metadata": {},
   "outputs": [
    {
     "data": {
      "text/html": [
       "<div>\n",
       "<style scoped>\n",
       "    .dataframe tbody tr th:only-of-type {\n",
       "        vertical-align: middle;\n",
       "    }\n",
       "\n",
       "    .dataframe tbody tr th {\n",
       "        vertical-align: top;\n",
       "    }\n",
       "\n",
       "    .dataframe thead th {\n",
       "        text-align: right;\n",
       "    }\n",
       "</style>\n",
       "<table border=\"1\" class=\"dataframe\">\n",
       "  <thead>\n",
       "    <tr style=\"text-align: right;\">\n",
       "      <th></th>\n",
       "      <th>date</th>\n",
       "      <th>province</th>\n",
       "      <th>district</th>\n",
       "      <th>ward</th>\n",
       "      <th>long</th>\n",
       "      <th>lat</th>\n",
       "    </tr>\n",
       "  </thead>\n",
       "  <tbody>\n",
       "    <tr>\n",
       "      <th>0</th>\n",
       "      <td>01/06/2020</td>\n",
       "      <td>Bắc Giang</td>\n",
       "      <td>Yên Dũng</td>\n",
       "      <td>Tiền Phong</td>\n",
       "      <td>106.17200</td>\n",
       "      <td>21.23800</td>\n",
       "    </tr>\n",
       "    <tr>\n",
       "      <th>1</th>\n",
       "      <td>26/05/2020</td>\n",
       "      <td>Lào Cai</td>\n",
       "      <td>Văn Bàn</td>\n",
       "      <td>Nậm Tha</td>\n",
       "      <td>104.41616</td>\n",
       "      <td>21.99459</td>\n",
       "    </tr>\n",
       "    <tr>\n",
       "      <th>2</th>\n",
       "      <td>26/05/2020</td>\n",
       "      <td>Sóc Trăng</td>\n",
       "      <td>Mỹ Tú</td>\n",
       "      <td>Hưng  Phú</td>\n",
       "      <td>105.70397</td>\n",
       "      <td>9.64698</td>\n",
       "    </tr>\n",
       "    <tr>\n",
       "      <th>3</th>\n",
       "      <td>26/05/2020</td>\n",
       "      <td>Sơn La</td>\n",
       "      <td>Vân Hồ</td>\n",
       "      <td>Tân Xuân</td>\n",
       "      <td>104.70561</td>\n",
       "      <td>20.65930</td>\n",
       "    </tr>\n",
       "    <tr>\n",
       "      <th>4</th>\n",
       "      <td>26/05/2020</td>\n",
       "      <td>Bạc Liêu</td>\n",
       "      <td>Bạc Liêu</td>\n",
       "      <td>Vĩnh Trạch</td>\n",
       "      <td>105.76225</td>\n",
       "      <td>9.30437</td>\n",
       "    </tr>\n",
       "    <tr>\n",
       "      <th>5</th>\n",
       "      <td>26/05/2020</td>\n",
       "      <td>Bình Dương</td>\n",
       "      <td>Bàu Bàng</td>\n",
       "      <td>Lai Uyên</td>\n",
       "      <td>106.63067</td>\n",
       "      <td>11.23651</td>\n",
       "    </tr>\n",
       "    <tr>\n",
       "      <th>6</th>\n",
       "      <td>26/05/2020</td>\n",
       "      <td>Hà Tĩnh</td>\n",
       "      <td>TX. Kỳ Anh</td>\n",
       "      <td>P. Kỳ Long</td>\n",
       "      <td>106.41985</td>\n",
       "      <td>18.04084</td>\n",
       "    </tr>\n",
       "    <tr>\n",
       "      <th>7</th>\n",
       "      <td>26/05/2020</td>\n",
       "      <td>Hà Tĩnh</td>\n",
       "      <td>TX. Kỳ Anh</td>\n",
       "      <td>P. Kỳ Phương</td>\n",
       "      <td>106.43443</td>\n",
       "      <td>18.02518</td>\n",
       "    </tr>\n",
       "    <tr>\n",
       "      <th>8</th>\n",
       "      <td>20/05/2020</td>\n",
       "      <td>Quảng Ninh</td>\n",
       "      <td>Tiên Yên</td>\n",
       "      <td>Điền Xá</td>\n",
       "      <td>107.34000</td>\n",
       "      <td>21.39100</td>\n",
       "    </tr>\n",
       "    <tr>\n",
       "      <th>9</th>\n",
       "      <td>24/05/2020</td>\n",
       "      <td>Quảng Nam</td>\n",
       "      <td>Đại Lộc</td>\n",
       "      <td>Đại Nghĩa</td>\n",
       "      <td>108.08828</td>\n",
       "      <td>15.91556</td>\n",
       "    </tr>\n",
       "  </tbody>\n",
       "</table>\n",
       "</div>"
      ],
      "text/plain": [
       "         date    province    district          ward       long       lat\n",
       "0  01/06/2020   Bắc Giang    Yên Dũng    Tiền Phong  106.17200  21.23800\n",
       "1  26/05/2020     Lào Cai     Văn Bàn       Nậm Tha  104.41616  21.99459\n",
       "2  26/05/2020   Sóc Trăng       Mỹ Tú     Hưng  Phú  105.70397   9.64698\n",
       "3  26/05/2020      Sơn La      Vân Hồ      Tân Xuân  104.70561  20.65930\n",
       "4  26/05/2020    Bạc Liêu    Bạc Liêu    Vĩnh Trạch  105.76225   9.30437\n",
       "5  26/05/2020  Bình Dương    Bàu Bàng      Lai Uyên  106.63067  11.23651\n",
       "6  26/05/2020     Hà Tĩnh  TX. Kỳ Anh    P. Kỳ Long  106.41985  18.04084\n",
       "7  26/05/2020     Hà Tĩnh  TX. Kỳ Anh  P. Kỳ Phương  106.43443  18.02518\n",
       "8  20/05/2020  Quảng Ninh    Tiên Yên       Điền Xá  107.34000  21.39100\n",
       "9  24/05/2020   Quảng Nam     Đại Lộc     Đại Nghĩa  108.08828  15.91556"
      ]
     },
     "execution_count": 2,
     "metadata": {},
     "output_type": "execute_result"
    }
   ],
   "source": [
    "import pandas as pd\n",
    "df = pd.read_csv('data.csv')\n",
    "df.head(10)"
   ]
  },
  {
   "cell_type": "code",
   "execution_count": 3,
   "metadata": {},
   "outputs": [
    {
     "data": {
      "text/plain": [
       "str"
      ]
     },
     "execution_count": 3,
     "metadata": {},
     "output_type": "execute_result"
    }
   ],
   "source": [
    "type(df['date'][0])"
   ]
  },
  {
   "cell_type": "code",
   "execution_count": 4,
   "metadata": {},
   "outputs": [
    {
     "data": {
      "text/plain": [
       "pandas._libs.tslibs.timestamps.Timestamp"
      ]
     },
     "execution_count": 4,
     "metadata": {},
     "output_type": "execute_result"
    }
   ],
   "source": [
    "from datetime import datetime\n",
    "df['date'] = df['date'].apply(lambda x: datetime.strptime(x,'%d/%m/%Y'))\n",
    "type(df['date'][0])"
   ]
  },
  {
   "cell_type": "code",
   "execution_count": 5,
   "metadata": {},
   "outputs": [
    {
     "data": {
      "text/plain": [
       "6"
      ]
     },
     "execution_count": 5,
     "metadata": {},
     "output_type": "execute_result"
    }
   ],
   "source": [
    "int(df['date'][0].strftime('%m'))"
   ]
  },
  {
   "cell_type": "code",
   "execution_count": 6,
   "metadata": {},
   "outputs": [
    {
     "data": {
      "text/plain": [
       "count      997218\n",
       "unique         63\n",
       "top       Gia Lai\n",
       "freq       109950\n",
       "Name: province, dtype: object"
      ]
     },
     "execution_count": 6,
     "metadata": {},
     "output_type": "execute_result"
    }
   ],
   "source": [
    "df['province'].describe()"
   ]
  },
  {
   "cell_type": "code",
   "execution_count": 7,
   "metadata": {},
   "outputs": [
    {
     "data": {
      "text/plain": [
       "{'An Giang',\n",
       " 'Bà Rịa-Vũng Tàu',\n",
       " 'Bình Dương',\n",
       " 'Bình Phước',\n",
       " 'Bình Thuận',\n",
       " 'Bình Định',\n",
       " 'Bạc Liêu',\n",
       " 'Bắc Giang',\n",
       " 'Bắc Kạn',\n",
       " 'Bắc Ninh',\n",
       " 'Bến Tre',\n",
       " 'Cao Bằng',\n",
       " 'Cà Mau',\n",
       " 'Cần Thơ',\n",
       " 'Gia Lai',\n",
       " 'Hà Giang',\n",
       " 'Hà Nam',\n",
       " 'Hà Nội',\n",
       " 'Hà Tĩnh',\n",
       " 'Hòa Bình',\n",
       " 'Hưng Yên',\n",
       " 'Hải Dương',\n",
       " 'Hải Phòng',\n",
       " 'Hậu Giang',\n",
       " 'Hồ Chí Minh',\n",
       " 'Khánh Hòa',\n",
       " 'Kiên Giang',\n",
       " 'Kon Tum',\n",
       " 'Lai Châu',\n",
       " 'Long An',\n",
       " 'Lào Cai',\n",
       " 'Lâm Đồng',\n",
       " 'Lạng Sơn',\n",
       " 'Nam Định',\n",
       " 'Nghệ An',\n",
       " 'Ninh Bình',\n",
       " 'Ninh Thuận',\n",
       " 'Phú Thọ',\n",
       " 'Phú Yên',\n",
       " 'Quảng Bình',\n",
       " 'Quảng Nam',\n",
       " 'Quảng Ngãi',\n",
       " 'Quảng Ninh',\n",
       " 'Quảng Trị',\n",
       " 'Sóc Trăng',\n",
       " 'Sơn La',\n",
       " 'Thanh Hoá',\n",
       " 'Thái Bình',\n",
       " 'Thái Nguyên',\n",
       " 'Thừa Thiên Huế',\n",
       " 'Tiền Giang',\n",
       " 'Trà Vinh',\n",
       " 'Tuyên Quang',\n",
       " 'Tây Ninh',\n",
       " 'Vĩnh Long',\n",
       " 'Vĩnh Phúc',\n",
       " 'Yên Bái',\n",
       " 'Điện Biên',\n",
       " 'Đà Nẵng',\n",
       " 'Đắk Lắk',\n",
       " 'Đắk Nông',\n",
       " 'Đồng Nai',\n",
       " 'Đồng Tháp'}"
      ]
     },
     "execution_count": 7,
     "metadata": {},
     "output_type": "execute_result"
    }
   ],
   "source": [
    "provinceName = set(df['province'].values)\n",
    "provinceName"
   ]
  },
  {
   "cell_type": "code",
   "execution_count": 8,
   "metadata": {},
   "outputs": [],
   "source": [
    "import csv\n",
    "l = len(df['date'].values)\n",
    "for y in range(2020,2021):\n",
    "    for m in range(7,13):\n",
    "        with open('data-{}-{}.csv'.format(y,m),'a') as f:\n",
    "            writer = csv.writer(f)\n",
    "            writer.writerow(['province','fire'])\n",
    "            for p in provinceName:\n",
    "                fire = 0\n",
    "                for i in range(l):\n",
    "                    if df['province'][i] == p and int(df['date'][i].strftime('%m')) == m and int(df['date'][i].strftime('%Y')) == y:\n",
    "                        fire += 1\n",
    "                writer.writerow([p,fire])"
   ]
  }
 ],
 "metadata": {
  "interpreter": {
   "hash": "dbdb882dab0a8cfd9d2d2a2d7db81c2c3eea2b862f9f37efdbb3d70c81a27c22"
  },
  "kernelspec": {
   "display_name": "Python 3.8.10 64-bit ('workspace': venv)",
   "name": "python3"
  },
  "language_info": {
   "codemirror_mode": {
    "name": "ipython",
    "version": 3
   },
   "file_extension": ".py",
   "mimetype": "text/x-python",
   "name": "python",
   "nbconvert_exporter": "python",
   "pygments_lexer": "ipython3",
   "version": "3.8.10"
  },
  "orig_nbformat": 4
 },
 "nbformat": 4,
 "nbformat_minor": 2
}