{
 "cells": [
  {
   "cell_type": "code",
   "execution_count": 33,
   "metadata": {},
   "outputs": [
    {
     "data": {
      "text/html": [
       "<div>\n",
       "<style scoped>\n",
       "    .dataframe tbody tr th:only-of-type {\n",
       "        vertical-align: middle;\n",
       "    }\n",
       "\n",
       "    .dataframe tbody tr th {\n",
       "        vertical-align: top;\n",
       "    }\n",
       "\n",
       "    .dataframe thead th {\n",
       "        text-align: right;\n",
       "    }\n",
       "</style>\n",
       "<table border=\"1\" class=\"dataframe\">\n",
       "  <thead>\n",
       "    <tr style=\"text-align: right;\">\n",
       "      <th></th>\n",
       "      <th>date</th>\n",
       "      <th>province</th>\n",
       "      <th>district</th>\n",
       "      <th>ward</th>\n",
       "      <th>long</th>\n",
       "      <th>lat</th>\n",
       "    </tr>\n",
       "  </thead>\n",
       "  <tbody>\n",
       "    <tr>\n",
       "      <th>0</th>\n",
       "      <td>01/06/2020</td>\n",
       "      <td>Bắc Giang</td>\n",
       "      <td>Yên Dũng</td>\n",
       "      <td>Tiền Phong</td>\n",
       "      <td>106.17200</td>\n",
       "      <td>21.23800</td>\n",
       "    </tr>\n",
       "    <tr>\n",
       "      <th>1</th>\n",
       "      <td>26/05/2020</td>\n",
       "      <td>Lào Cai</td>\n",
       "      <td>Văn Bàn</td>\n",
       "      <td>Nậm Tha</td>\n",
       "      <td>104.41616</td>\n",
       "      <td>21.99459</td>\n",
       "    </tr>\n",
       "    <tr>\n",
       "      <th>2</th>\n",
       "      <td>26/05/2020</td>\n",
       "      <td>Sóc Trăng</td>\n",
       "      <td>Mỹ Tú</td>\n",
       "      <td>Hưng  Phú</td>\n",
       "      <td>105.70397</td>\n",
       "      <td>9.64698</td>\n",
       "    </tr>\n",
       "    <tr>\n",
       "      <th>3</th>\n",
       "      <td>26/05/2020</td>\n",
       "      <td>Sơn La</td>\n",
       "      <td>Vân Hồ</td>\n",
       "      <td>Tân Xuân</td>\n",
       "      <td>104.70561</td>\n",
       "      <td>20.65930</td>\n",
       "    </tr>\n",
       "    <tr>\n",
       "      <th>4</th>\n",
       "      <td>26/05/2020</td>\n",
       "      <td>Bạc Liêu</td>\n",
       "      <td>Bạc Liêu</td>\n",
       "      <td>Vĩnh Trạch</td>\n",
       "      <td>105.76225</td>\n",
       "      <td>9.30437</td>\n",
       "    </tr>\n",
       "    <tr>\n",
       "      <th>5</th>\n",
       "      <td>26/05/2020</td>\n",
       "      <td>Bình Dương</td>\n",
       "      <td>Bàu Bàng</td>\n",
       "      <td>Lai Uyên</td>\n",
       "      <td>106.63067</td>\n",
       "      <td>11.23651</td>\n",
       "    </tr>\n",
       "    <tr>\n",
       "      <th>6</th>\n",
       "      <td>26/05/2020</td>\n",
       "      <td>Hà Tĩnh</td>\n",
       "      <td>TX. Kỳ Anh</td>\n",
       "      <td>P. Kỳ Long</td>\n",
       "      <td>106.41985</td>\n",
       "      <td>18.04084</td>\n",
       "    </tr>\n",
       "    <tr>\n",
       "      <th>7</th>\n",
       "      <td>26/05/2020</td>\n",
       "      <td>Hà Tĩnh</td>\n",
       "      <td>TX. Kỳ Anh</td>\n",
       "      <td>P. Kỳ Phương</td>\n",
       "      <td>106.43443</td>\n",
       "      <td>18.02518</td>\n",
       "    </tr>\n",
       "    <tr>\n",
       "      <th>8</th>\n",
       "      <td>20/05/2020</td>\n",
       "      <td>Quảng Ninh</td>\n",
       "      <td>Tiên Yên</td>\n",
       "      <td>Điền Xá</td>\n",
       "      <td>107.34000</td>\n",
       "      <td>21.39100</td>\n",
       "    </tr>\n",
       "    <tr>\n",
       "      <th>9</th>\n",
       "      <td>24/05/2020</td>\n",
       "      <td>Quảng Nam</td>\n",
       "      <td>Đại Lộc</td>\n",
       "      <td>Đại Nghĩa</td>\n",
       "      <td>108.08828</td>\n",
       "      <td>15.91556</td>\n",
       "    </tr>\n",
       "  </tbody>\n",
       "</table>\n",
       "</div>"
      ],
      "text/plain": [
       "         date    province    district          ward       long       lat\n",
       "0  01/06/2020   Bắc Giang    Yên Dũng    Tiền Phong  106.17200  21.23800\n",
       "1  26/05/2020     Lào Cai     Văn Bàn       Nậm Tha  104.41616  21.99459\n",
       "2  26/05/2020   Sóc Trăng       Mỹ Tú     Hưng  Phú  105.70397   9.64698\n",
       "3  26/05/2020      Sơn La      Vân Hồ      Tân Xuân  104.70561  20.65930\n",
       "4  26/05/2020    Bạc Liêu    Bạc Liêu    Vĩnh Trạch  105.76225   9.30437\n",
       "5  26/05/2020  Bình Dương    Bàu Bàng      Lai Uyên  106.63067  11.23651\n",
       "6  26/05/2020     Hà Tĩnh  TX. Kỳ Anh    P. Kỳ Long  106.41985  18.04084\n",
       "7  26/05/2020     Hà Tĩnh  TX. Kỳ Anh  P. Kỳ Phương  106.43443  18.02518\n",
       "8  20/05/2020  Quảng Ninh    Tiên Yên       Điền Xá  107.34000  21.39100\n",
       "9  24/05/2020   Quảng Nam     Đại Lộc     Đại Nghĩa  108.08828  15.91556"
      ]
     },
     "execution_count": 33,
     "metadata": {},
     "output_type": "execute_result"
    }
   ],
   "source": [
    "import pandas as pd\n",
    "df = pd.read_csv('data.csv')\n",
    "df.head(10)"
   ]
  },
  {
   "cell_type": "code",
   "execution_count": 34,
   "metadata": {},
   "outputs": [
    {
     "data": {
      "text/plain": [
       "str"
      ]
     },
     "execution_count": 34,
     "metadata": {},
     "output_type": "execute_result"
    }
   ],
   "source": [
    "type(df['date'][0])"
   ]
  },
  {
   "cell_type": "code",
   "execution_count": 35,
   "metadata": {},
   "outputs": [
    {
     "data": {
      "text/plain": [
       "pandas._libs.tslibs.timestamps.Timestamp"
      ]
     },
     "execution_count": 35,
     "metadata": {},
     "output_type": "execute_result"
    }
   ],
   "source": [
    "from datetime import datetime\n",
    "df['date'] = df['date'].apply(lambda x: datetime.strptime(x,'%d/%m/%Y'))\n",
    "type(df['date'][0])"
   ]
  },
  {
   "cell_type": "code",
   "execution_count": 36,
   "metadata": {},
   "outputs": [
    {
     "data": {
      "text/plain": [
       "6"
      ]
     },
     "execution_count": 36,
     "metadata": {},
     "output_type": "execute_result"
    }
   ],
   "source": [
    "int(df['date'][0].strftime('%m'))"
   ]
  },
  {
   "cell_type": "code",
   "execution_count": 37,
   "metadata": {},
   "outputs": [
    {
     "data": {
      "text/plain": [
       "count      997218\n",
       "unique         63\n",
       "top       Gia Lai\n",
       "freq       109950\n",
       "Name: province, dtype: object"
      ]
     },
     "execution_count": 37,
     "metadata": {},
     "output_type": "execute_result"
    }
   ],
   "source": [
    "df['province'].describe()"
   ]
  },
  {
   "cell_type": "code",
   "execution_count": 38,
   "metadata": {},
   "outputs": [
    {
     "data": {
      "text/plain": [
       "{'An Giang',\n",
       " 'Bà Rịa-Vũng Tàu',\n",
       " 'Bình Dương',\n",
       " 'Bình Phước',\n",
       " 'Bình Thuận',\n",
       " 'Bình Định',\n",
       " 'Bạc Liêu',\n",
       " 'Bắc Giang',\n",
       " 'Bắc Kạn',\n",
       " 'Bắc Ninh',\n",
       " 'Bến Tre',\n",
       " 'Cao Bằng',\n",
       " 'Cà Mau',\n",
       " 'Cần Thơ',\n",
       " 'Gia Lai',\n",
       " 'Hà Giang',\n",
       " 'Hà Nam',\n",
       " 'Hà Nội',\n",
       " 'Hà Tĩnh',\n",
       " 'Hòa Bình',\n",
       " 'Hưng Yên',\n",
       " 'Hải Dương',\n",
       " 'Hải Phòng',\n",
       " 'Hậu Giang',\n",
       " 'Hồ Chí Minh',\n",
       " 'Khánh Hòa',\n",
       " 'Kiên Giang',\n",
       " 'Kon Tum',\n",
       " 'Lai Châu',\n",
       " 'Long An',\n",
       " 'Lào Cai',\n",
       " 'Lâm Đồng',\n",
       " 'Lạng Sơn',\n",
       " 'Nam Định',\n",
       " 'Nghệ An',\n",
       " 'Ninh Bình',\n",
       " 'Ninh Thuận',\n",
       " 'Phú Thọ',\n",
       " 'Phú Yên',\n",
       " 'Quảng Bình',\n",
       " 'Quảng Nam',\n",
       " 'Quảng Ngãi',\n",
       " 'Quảng Ninh',\n",
       " 'Quảng Trị',\n",
       " 'Sóc Trăng',\n",
       " 'Sơn La',\n",
       " 'Thanh Hoá',\n",
       " 'Thái Bình',\n",
       " 'Thái Nguyên',\n",
       " 'Thừa Thiên Huế',\n",
       " 'Tiền Giang',\n",
       " 'Trà Vinh',\n",
       " 'Tuyên Quang',\n",
       " 'Tây Ninh',\n",
       " 'Vĩnh Long',\n",
       " 'Vĩnh Phúc',\n",
       " 'Yên Bái',\n",
       " 'Điện Biên',\n",
       " 'Đà Nẵng',\n",
       " 'Đắk Lắk',\n",
       " 'Đắk Nông',\n",
       " 'Đồng Nai',\n",
       " 'Đồng Tháp'}"
      ]
     },
     "execution_count": 38,
     "metadata": {},
     "output_type": "execute_result"
    }
   ],
   "source": [
    "provinceName = set(df['province'].values)\n",
    "provinceName"
   ]
  },
  {
   "cell_type": "code",
   "execution_count": 39,
   "metadata": {},
   "outputs": [],
   "source": [
    "# import csv\n",
    "# l = len(df['date'].values)\n",
    "# for y in range(2020,2021):\n",
    "#     for m in range(7,13):\n",
    "#         with open('data-{}-{}.csv'.format(y,m),'a') as f:\n",
    "#             writer = csv.writer(f)\n",
    "#             writer.writerow(['province','fire'])\n",
    "#             for p in provinceName:\n",
    "#                 fire = 0\n",
    "#                 for i in range(l):\n",
    "#                     if df['province'][i] == p and int(df['date'][i].strftime('%m')) == m and int(df['date'][i].strftime('%Y')) == y:\n",
    "#                         fire += 1\n",
    "#                 writer.writerow([p,fire])"
   ]
  },
  {
   "cell_type": "code",
   "execution_count": 40,
   "metadata": {},
   "outputs": [
    {
     "data": {
      "text/html": [
       "<div>\n",
       "<style scoped>\n",
       "    .dataframe tbody tr th:only-of-type {\n",
       "        vertical-align: middle;\n",
       "    }\n",
       "\n",
       "    .dataframe tbody tr th {\n",
       "        vertical-align: top;\n",
       "    }\n",
       "\n",
       "    .dataframe thead th {\n",
       "        text-align: right;\n",
       "    }\n",
       "</style>\n",
       "<table border=\"1\" class=\"dataframe\">\n",
       "  <thead>\n",
       "    <tr style=\"text-align: right;\">\n",
       "      <th></th>\n",
       "      <th>Unnamed: 0</th>\n",
       "      <th>province</th>\n",
       "      <th>fire</th>\n",
       "    </tr>\n",
       "  </thead>\n",
       "  <tbody>\n",
       "    <tr>\n",
       "      <th>0</th>\n",
       "      <td>0</td>\n",
       "      <td>Trà Vinh</td>\n",
       "      <td>0</td>\n",
       "    </tr>\n",
       "    <tr>\n",
       "      <th>1</th>\n",
       "      <td>1</td>\n",
       "      <td>Phú Thọ</td>\n",
       "      <td>2</td>\n",
       "    </tr>\n",
       "    <tr>\n",
       "      <th>2</th>\n",
       "      <td>2</td>\n",
       "      <td>Cà Mau</td>\n",
       "      <td>0</td>\n",
       "    </tr>\n",
       "    <tr>\n",
       "      <th>3</th>\n",
       "      <td>3</td>\n",
       "      <td>Thanh Hoá</td>\n",
       "      <td>0</td>\n",
       "    </tr>\n",
       "    <tr>\n",
       "      <th>4</th>\n",
       "      <td>4</td>\n",
       "      <td>Ninh Thuận</td>\n",
       "      <td>1</td>\n",
       "    </tr>\n",
       "    <tr>\n",
       "      <th>...</th>\n",
       "      <td>...</td>\n",
       "      <td>...</td>\n",
       "      <td>...</td>\n",
       "    </tr>\n",
       "    <tr>\n",
       "      <th>58</th>\n",
       "      <td>58</td>\n",
       "      <td>Tây Ninh</td>\n",
       "      <td>3</td>\n",
       "    </tr>\n",
       "    <tr>\n",
       "      <th>59</th>\n",
       "      <td>59</td>\n",
       "      <td>Bình Dương</td>\n",
       "      <td>0</td>\n",
       "    </tr>\n",
       "    <tr>\n",
       "      <th>60</th>\n",
       "      <td>60</td>\n",
       "      <td>Nam Định</td>\n",
       "      <td>0</td>\n",
       "    </tr>\n",
       "    <tr>\n",
       "      <th>61</th>\n",
       "      <td>61</td>\n",
       "      <td>Yên Bái</td>\n",
       "      <td>6</td>\n",
       "    </tr>\n",
       "    <tr>\n",
       "      <th>62</th>\n",
       "      <td>62</td>\n",
       "      <td>An Giang</td>\n",
       "      <td>1</td>\n",
       "    </tr>\n",
       "  </tbody>\n",
       "</table>\n",
       "<p>63 rows × 3 columns</p>\n",
       "</div>"
      ],
      "text/plain": [
       "    Unnamed: 0    province  fire\n",
       "0            0    Trà Vinh     0\n",
       "1            1     Phú Thọ     2\n",
       "2            2      Cà Mau     0\n",
       "3            3   Thanh Hoá     0\n",
       "4            4  Ninh Thuận     1\n",
       "..         ...         ...   ...\n",
       "58          58    Tây Ninh     3\n",
       "59          59  Bình Dương     0\n",
       "60          60    Nam Định     0\n",
       "61          61     Yên Bái     6\n",
       "62          62    An Giang     1\n",
       "\n",
       "[63 rows x 3 columns]"
      ]
     },
     "execution_count": 40,
     "metadata": {},
     "output_type": "execute_result"
    }
   ],
   "source": [
    "Jan2008 = pd.read_csv('MonthlyData/data-2008-1.csv')\n",
    "Jan2008"
   ]
  },
  {
   "cell_type": "code",
   "execution_count": 41,
   "metadata": {},
   "outputs": [
    {
     "data": {
      "text/html": [
       "<div>\n",
       "<style scoped>\n",
       "    .dataframe tbody tr th:only-of-type {\n",
       "        vertical-align: middle;\n",
       "    }\n",
       "\n",
       "    .dataframe tbody tr th {\n",
       "        vertical-align: top;\n",
       "    }\n",
       "\n",
       "    .dataframe thead th {\n",
       "        text-align: right;\n",
       "    }\n",
       "</style>\n",
       "<table border=\"1\" class=\"dataframe\">\n",
       "  <thead>\n",
       "    <tr style=\"text-align: right;\">\n",
       "      <th></th>\n",
       "      <th>province</th>\n",
       "    </tr>\n",
       "  </thead>\n",
       "  <tbody>\n",
       "    <tr>\n",
       "      <th>0</th>\n",
       "      <td>Hà Nội</td>\n",
       "    </tr>\n",
       "    <tr>\n",
       "      <th>1</th>\n",
       "      <td>Vĩnh Phúc</td>\n",
       "    </tr>\n",
       "    <tr>\n",
       "      <th>2</th>\n",
       "      <td>Bắc Ninh</td>\n",
       "    </tr>\n",
       "    <tr>\n",
       "      <th>3</th>\n",
       "      <td>Quảng Ninh</td>\n",
       "    </tr>\n",
       "    <tr>\n",
       "      <th>4</th>\n",
       "      <td>Hải Dương</td>\n",
       "    </tr>\n",
       "    <tr>\n",
       "      <th>...</th>\n",
       "      <td>...</td>\n",
       "    </tr>\n",
       "    <tr>\n",
       "      <th>58</th>\n",
       "      <td>Cần Thơ</td>\n",
       "    </tr>\n",
       "    <tr>\n",
       "      <th>59</th>\n",
       "      <td>Hậu Giang</td>\n",
       "    </tr>\n",
       "    <tr>\n",
       "      <th>60</th>\n",
       "      <td>Sóc Trăng</td>\n",
       "    </tr>\n",
       "    <tr>\n",
       "      <th>61</th>\n",
       "      <td>Bạc Liêu</td>\n",
       "    </tr>\n",
       "    <tr>\n",
       "      <th>62</th>\n",
       "      <td>Cà Mau</td>\n",
       "    </tr>\n",
       "  </tbody>\n",
       "</table>\n",
       "<p>63 rows × 1 columns</p>\n",
       "</div>"
      ],
      "text/plain": [
       "      province\n",
       "0       Hà Nội\n",
       "1    Vĩnh Phúc\n",
       "2     Bắc Ninh\n",
       "3   Quảng Ninh\n",
       "4    Hải Dương\n",
       "..         ...\n",
       "58     Cần Thơ\n",
       "59   Hậu Giang\n",
       "60   Sóc Trăng\n",
       "61    Bạc Liêu\n",
       "62      Cà Mau\n",
       "\n",
       "[63 rows x 1 columns]"
      ]
     },
     "execution_count": 41,
     "metadata": {},
     "output_type": "execute_result"
    }
   ],
   "source": [
    "geoCsv = pd.read_csv('cleaned_density.csv')\n",
    "del geoCsv['density']\n",
    "geoCsv"
   ]
  },
  {
   "cell_type": "code",
   "execution_count": 42,
   "metadata": {},
   "outputs": [
    {
     "data": {
      "text/plain": [
       "set()"
      ]
     },
     "execution_count": 42,
     "metadata": {},
     "output_type": "execute_result"
    }
   ],
   "source": [
    "provinceFire = set(Jan2008['province'])\n",
    "provinceGeo = set(geoCsv['province'])\n",
    "provinceFire - provinceGeo"
   ]
  },
  {
   "cell_type": "code",
   "execution_count": 43,
   "metadata": {},
   "outputs": [
    {
     "data": {
      "text/plain": [
       "set()"
      ]
     },
     "execution_count": 43,
     "metadata": {},
     "output_type": "execute_result"
    }
   ],
   "source": [
    "provinceGeo - provinceFire"
   ]
  },
  {
   "cell_type": "code",
   "execution_count": 44,
   "metadata": {},
   "outputs": [],
   "source": [
    "# corrections = {\n",
    "#     'Bà Rịa-Vũng Tàu':'Bà Rịa - Vũng Tàu',\n",
    "#     'Hòa Bình':'Hoà Bình',\n",
    "#     'Hồ Chí Minh':'TP. Hồ Chí Minh', \n",
    "#     'Khánh Hòa':'Khánh Hoà', \n",
    "#     'Thừa Thiên Huế':'Thừa Thiên - Huế',\n",
    "# }\n",
    "# import glob \n",
    "# listFile = glob.glob('MonthlyData/*.csv')\n",
    "# for i in range(len(listFile)):\n",
    "#     f = pd.read_csv(listFile[i])\n",
    "#     for p in range(len(f['province'])):\n",
    "#         for c in corrections:\n",
    "#             if f['province'][p] == c:\n",
    "#                 f['province'][p] = corrections[c]\n",
    "#     f.to_csv(listFile[i])"
   ]
  },
  {
   "cell_type": "code",
   "execution_count": 53,
   "metadata": {},
   "outputs": [
    {
     "data": {
      "text/html": [
       "<div>\n",
       "<style scoped>\n",
       "    .dataframe tbody tr th:only-of-type {\n",
       "        vertical-align: middle;\n",
       "    }\n",
       "\n",
       "    .dataframe tbody tr th {\n",
       "        vertical-align: top;\n",
       "    }\n",
       "\n",
       "    .dataframe thead th {\n",
       "        text-align: right;\n",
       "    }\n",
       "</style>\n",
       "<table border=\"1\" class=\"dataframe\">\n",
       "  <thead>\n",
       "    <tr style=\"text-align: right;\">\n",
       "      <th></th>\n",
       "      <th>Unnamed: 0</th>\n",
       "      <th>province</th>\n",
       "      <th>fire</th>\n",
       "    </tr>\n",
       "  </thead>\n",
       "  <tbody>\n",
       "    <tr>\n",
       "      <th>0</th>\n",
       "      <td>0</td>\n",
       "      <td>Trà Vinh</td>\n",
       "      <td>0</td>\n",
       "    </tr>\n",
       "    <tr>\n",
       "      <th>1</th>\n",
       "      <td>1</td>\n",
       "      <td>Phú Thọ</td>\n",
       "      <td>2</td>\n",
       "    </tr>\n",
       "    <tr>\n",
       "      <th>2</th>\n",
       "      <td>2</td>\n",
       "      <td>Cà Mau</td>\n",
       "      <td>0</td>\n",
       "    </tr>\n",
       "    <tr>\n",
       "      <th>3</th>\n",
       "      <td>3</td>\n",
       "      <td>Thanh Hoá</td>\n",
       "      <td>0</td>\n",
       "    </tr>\n",
       "    <tr>\n",
       "      <th>4</th>\n",
       "      <td>4</td>\n",
       "      <td>Ninh Thuận</td>\n",
       "      <td>1</td>\n",
       "    </tr>\n",
       "    <tr>\n",
       "      <th>...</th>\n",
       "      <td>...</td>\n",
       "      <td>...</td>\n",
       "      <td>...</td>\n",
       "    </tr>\n",
       "    <tr>\n",
       "      <th>58</th>\n",
       "      <td>58</td>\n",
       "      <td>Tây Ninh</td>\n",
       "      <td>3</td>\n",
       "    </tr>\n",
       "    <tr>\n",
       "      <th>59</th>\n",
       "      <td>59</td>\n",
       "      <td>Bình Dương</td>\n",
       "      <td>0</td>\n",
       "    </tr>\n",
       "    <tr>\n",
       "      <th>60</th>\n",
       "      <td>60</td>\n",
       "      <td>Nam Định</td>\n",
       "      <td>0</td>\n",
       "    </tr>\n",
       "    <tr>\n",
       "      <th>61</th>\n",
       "      <td>61</td>\n",
       "      <td>Yên Bái</td>\n",
       "      <td>6</td>\n",
       "    </tr>\n",
       "    <tr>\n",
       "      <th>62</th>\n",
       "      <td>62</td>\n",
       "      <td>An Giang</td>\n",
       "      <td>1</td>\n",
       "    </tr>\n",
       "  </tbody>\n",
       "</table>\n",
       "<p>63 rows × 3 columns</p>\n",
       "</div>"
      ],
      "text/plain": [
       "    Unnamed: 0    province  fire\n",
       "0            0    Trà Vinh     0\n",
       "1            1     Phú Thọ     2\n",
       "2            2      Cà Mau     0\n",
       "3            3   Thanh Hoá     0\n",
       "4            4  Ninh Thuận     1\n",
       "..         ...         ...   ...\n",
       "58          58    Tây Ninh     3\n",
       "59          59  Bình Dương     0\n",
       "60          60    Nam Định     0\n",
       "61          61     Yên Bái     6\n",
       "62          62    An Giang     1\n",
       "\n",
       "[63 rows x 3 columns]"
      ]
     },
     "execution_count": 53,
     "metadata": {},
     "output_type": "execute_result"
    }
   ],
   "source": [
    "f = pd.read_csv('MonthlyData/data-2008-1.csv')\n",
    "f"
   ]
  },
  {
   "cell_type": "code",
   "execution_count": 50,
   "metadata": {},
   "outputs": [
    {
     "data": {
      "text/plain": [
       "<AxesSubplot:>"
      ]
     },
     "execution_count": 50,
     "metadata": {},
     "output_type": "execute_result"
    },
    {
     "data": {
      "image/png": "[encoded data removed]",
      "text/plain": [
       "<Figure size 432x288 with 1 Axes>"
      ]
     },
     "metadata": {
      "needs_background": "light"
     },
     "output_type": "display_data"
    }
   ],
   "source": [
    "f['fire'].plot()"
   ]
  },
  {
   "cell_type": "code",
   "execution_count": 51,
   "metadata": {},
   "outputs": [],
   "source": [
    "import json\n",
    "vn = json.load(open('cleaned_geo.geojson','r'))"
   ]
  },
  {
   "cell_type": "code",
   "execution_count": 75,
   "metadata": {},
   "outputs": [],
   "source": [
    "import glob\n",
    "import plotly.express as px\n",
    "import plotly.io as pio\n",
    "pio.kaleido.scope.default_format = \"png\"\n",
    "\n",
    "listFile = glob.glob('MonthlyData/*.csv')\n",
    "for i in range(len(listFile)):\n",
    "    f = pd.read_csv(listFile[i])\n",
    "    time = listFile[i][(listFile[i].find('-')+1):listFile[i].find('.csv')]\n",
    "    fig = px.choropleth(\n",
    "        f, \n",
    "        geojson=vn, \n",
    "        locations=\"province\",\n",
    "        color=\"fire\",\n",
    "        featureidkey=\"properties.ten_tinh\",\n",
    "        hover_name=\"province\",\n",
    "        hover_data=['fire'],\n",
    "        title=\"Vietnam Forest Fire ({})\".format(time),\n",
    "        color_continuous_scale=\"ylorrd\",\n",
    "        range_color=(0,100),\n",
    "        labels={'fire':'Fire'},\n",
    "        projection=\"mercator\",\n",
    "    )\n",
    "    fig.update_geos(fitbounds=\"locations\", visible=False)\n",
    "    fig.update_layout(margin={\"r\":0,\"t\":30,\"l\":30,\"b\":0})\n",
    "    imageName = 'ImageFire/fig' + time + '.png'\n",
    "    pio.write_image(fig,imageName,scale=2,width=1200,height=1200)"
   ]
  }
 ],
 "metadata": {
  "interpreter": {
   "hash": "dbdb882dab0a8cfd9d2d2a2d7db81c2c3eea2b862f9f37efdbb3d70c81a27c22"
  },
  "kernelspec": {
   "display_name": "Python 3.8.10 64-bit ('workspace': venv)",
   "name": "python3"
  },
  "language_info": {
   "codemirror_mode": {
    "name": "ipython",
    "version": 3
   },
   "file_extension": ".py",
   "mimetype": "text/x-python",
   "name": "python",
   "nbconvert_exporter": "python",
   "pygments_lexer": "ipython3",
   "version": "3.8.10"
  },
  "orig_nbformat": 4
 },
 "nbformat": 4,
 "nbformat_minor": 2
}