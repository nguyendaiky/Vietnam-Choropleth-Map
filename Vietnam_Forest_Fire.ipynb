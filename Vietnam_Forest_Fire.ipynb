{
 "cells": [
  {
   "cell_type": "code",
   "execution_count": null,
   "metadata": {},
   "outputs": [],
   "source": []
  }
 ],
 "metadata": {
  "interpreter": {
   "hash": "dbdb882dab0a8cfd9d2d2a2d7db81c2c3eea2b862f9f37efdbb3d70c81a27c22"
  },
  "kernelspec": {
   "display_name": "Python 3.8.10 64-bit ('workspace': venv)",
   "name": "python3"
  },
  "language_info": {
   "name": "python",
   "version": ""
  },
  "orig_nbformat": 4
 },
 "nbformat": 4,
 "nbformat_minor": 2
}